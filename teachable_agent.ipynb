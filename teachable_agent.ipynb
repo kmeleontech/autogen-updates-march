{
 "cells": [
  {
   "cell_type": "markdown",
   "metadata": {},
   "source": [
    "## Step 1: Imports and AutoGen configurations"
   ]
  },
  {
   "cell_type": "code",
   "execution_count": 2,
   "metadata": {},
   "outputs": [],
   "source": [
    "import autogen\n",
    "from autogen import ConversableAgent, UserProxyAgent\n",
    "from autogen.agentchat.contrib.capabilities.teachability import Teachability\n",
    "\n",
    "config_list = autogen.config_list_from_json(\n",
    "    env_or_file=\"OAI_CONFIG_LIST\",\n",
    "    file_location=\".\",\n",
    "    filter_dict={\n",
    "        \"model\": [\"<< Your model deployment name >>\"]\n",
    "    },\n",
    ")"
   ]
  },
  {
   "cell_type": "markdown",
   "metadata": {},
   "source": [
    "## Step 2: Create the agents"
   ]
  },
  {
   "cell_type": "code",
   "execution_count": 3,
   "metadata": {},
   "outputs": [
    {
     "name": "stdout",
     "output_type": "stream",
     "text": [
      "\u001b[92m\n",
      "CLEARING MEMORY\u001b[0m\n"
     ]
    }
   ],
   "source": [
    "# Start by instantiating any agent that inherits from ConversableAgent.\n",
    "teachable_agent = ConversableAgent(\n",
    "    name=\"teachable_agent\",  # The name is flexible, but should not contain spaces to work in group chat.\n",
    "    llm_config={\"config_list\": config_list, \"timeout\": 120, \"cache_seed\": None},  # Disable caching.\n",
    ")\n",
    "\n",
    "# Instantiate the Teachability capability. Its parameters are all optional.\n",
    "teachability = Teachability(\n",
    "    verbosity=0,  # 0 for basic info, 1 to add memory operations, 2 for analyzer messages, 3 for memo lists.\n",
    "    reset_db=True,\n",
    "    path_to_db_dir=\"./tmp/notebook/teachability_db\",\n",
    "    recall_threshold=1.5,  # Higher numbers allow more (but less relevant) memos to be recalled.\n",
    ")\n",
    "\n",
    "# Now add the Teachability capability to the agent.\n",
    "teachability.add_to_agent(teachable_agent)\n",
    "\n",
    "# Instantiate a UserProxyAgent to represent the user. But in this notebook, all user input will be simulated.\n",
    "user = UserProxyAgent(\n",
    "    name=\"user\",\n",
    "    human_input_mode=\"NEVER\",\n",
    "    is_termination_msg=lambda x: True if \"TERMINATE\" in x.get(\"content\") else False,\n",
    "    max_consecutive_auto_reply=0,\n",
    "    code_execution_config={\n",
    "        \"use_docker\": False\n",
    "    },  # Please set use_docker=True if docker is available to run the generated code. Using docker is safer than running the generated code directly.\n",
    ")"
   ]
  },
  {
   "cell_type": "markdown",
   "metadata": {},
   "source": [
    "## Teach the agent your user preferences\n",
    "\n",
    "In this example, we will teach the agent how to stick a certain Python function documentation format when we ask for a new documentation job."
   ]
  },
  {
   "cell_type": "code",
   "execution_count": 8,
   "metadata": {},
   "outputs": [
    {
     "name": "stdout",
     "output_type": "stream",
     "text": [
      "\u001b[33muser\u001b[0m (to teachable_agent):\n",
      "\n",
      "Please add comments to the following Python function:\n",
      "\n",
      "def add_numbers(num1, num2):\n",
      "    sum = num1 + num2\n",
      "    print('Sum: ', sum)\n",
      "\n",
      "--------------------------------------------------------------------------------\n",
      "\u001b[31m\n",
      ">>>>>>>> USING AUTO REPLY...\u001b[0m\n",
      "\u001b[33mteachable_agent\u001b[0m (to user):\n",
      "\n",
      "Sure! Here are the comments added to your Python function according to the information you've given me:\n",
      "\n",
      "```python\n",
      "def add_numbers(num1, num2):\n",
      "    # This function adds two numbers\n",
      "    # It takes two arguments: num1 and num2. These are the numbers to be added.\n",
      "    \n",
      "    # The sum of num1 and num2 is calculated and stored in the variable 'sum'\n",
      "    sum = num1 + num2\n",
      "    \n",
      "    # The sum is then printed out.\n",
      "    print('Sum: ', sum)\n",
      "```\n",
      "\n",
      "--------------------------------------------------------------------------------\n"
     ]
    },
    {
     "data": {
      "text/plain": [
       "ChatResult(chat_id=None, chat_history=[{'content': 'Please add comments to the following Python function. Remember my preferences:\\n\\ndef find_square(num):\\n    result = num * num\\n    return result', 'role': 'assistant'}, {'content': \"Sure! Here are the comments added to your Python function according to the information you've given me:\\n\\n```python\\ndef find_square(num):\\n    # This function calculates the square of the provided number\\n    # It takes one argument: num. num is the number to be squared.\\n   \\n    # The function initializes a variable, result, \\n    # to store the result of the squaring operation.\\n    result = num * num\\n    \\n    # The result is then returned.\\n    return result\\n```\", 'role': 'user'}, {'content': \"Please add comments to the following Python function:\\n\\ndef add_numbers(num1, num2):\\n    sum = num1 + num2\\n    print('Sum: ', sum)\", 'role': 'assistant'}, {'content': \"Sure! Here are the comments added to your Python function according to the information you've given me:\\n\\n```python\\ndef add_numbers(num1, num2):\\n    # This function adds two numbers\\n    # It takes two arguments: num1 and num2. These are the numbers to be added.\\n    \\n    # The sum of num1 and num2 is calculated and stored in the variable 'sum'\\n    sum = num1 + num2\\n    \\n    # The sum is then printed out.\\n    print('Sum: ', sum)\\n```\", 'role': 'user'}], summary=\"Sure! Here are the comments added to your Python function according to the information you've given me:\\n\\n```python\\ndef add_numbers(num1, num2):\\n    # This function adds two numbers\\n    # It takes two arguments: num1 and num2. These are the numbers to be added.\\n    \\n    # The sum of num1 and num2 is calculated and stored in the variable 'sum'\\n    sum = num1 + num2\\n    \\n    # The sum is then printed out.\\n    print('Sum: ', sum)\\n```\", cost=({'total_cost': 0.13746, 'gpt-4-32k': {'cost': 0.13746, 'prompt_tokens': 1201, 'completion_tokens': 545, 'total_tokens': 1746}}, {'total_cost': 0.13746, 'gpt-4-32k': {'cost': 0.13746, 'prompt_tokens': 1201, 'completion_tokens': 545, 'total_tokens': 1746}}), human_input=[])"
      ]
     },
     "execution_count": 8,
     "metadata": {},
     "output_type": "execute_result"
    }
   ],
   "source": [
    "text = \"\"\"Please add comments to the following Python function:\n",
    "\n",
    "def add_numbers(num1, num2):\n",
    "    sum = num1 + num2\n",
    "    print('Sum: ', sum)\"\"\"\n",
    "user.initiate_chat(teachable_agent, message=text, clear_history=False)"
   ]
  },
  {
   "cell_type": "code",
   "execution_count": 9,
   "metadata": {},
   "outputs": [
    {
     "name": "stdout",
     "output_type": "stream",
     "text": [
      "\u001b[33muser\u001b[0m (to teachable_agent):\n",
      "\n",
      "When I add comments to a Python function, I always use the PEP 275 multi-line docstring format, like in the following example:\n",
      "\n",
      "def complex(real=0.0, imag=0.0):\n",
      "    \"\"\"Form a complex number.\n",
      "\n",
      "    Keyword arguments:\n",
      "    real -- the real part (default 0.0)\n",
      "    imag -- the imaginary part (default 0.0)\n",
      "    \"\"\"\n",
      "    if imag == 0.0 and real == 0.0:\n",
      "        return complex_zero\n",
      "    ...\n",
      "\n",
      "--------------------------------------------------------------------------------\n",
      "\u001b[31m\n",
      ">>>>>>>> USING AUTO REPLY...\u001b[0m\n",
      "\u001b[33mteachable_agent\u001b[0m (to user):\n",
      "\n",
      "I understand, you prefer using the multi-line docstring format for comments in your code. In consideration of that, here are the comments added to your Python functions:\n",
      "\n",
      "```python\n",
      "def find_square(num):\n",
      "    \"\"\"\n",
      "    Calculate the square of the provided number.\n",
      "\n",
      "    Argument:\n",
      "    num -- The number to be squared.\n",
      "\n",
      "    Returns: The square of the number.\n",
      "    \"\"\"\n",
      "    result = num * num\n",
      "    return result\n",
      "```\n",
      "\n",
      "```python\n",
      "def add_numbers(num1, num2):\n",
      "    \"\"\"\n",
      "    Calculate the sum of two numbers and prints it.\n",
      "\n",
      "    Arguments:\n",
      "    num1 -- The first number.\n",
      "    num2 -- The second number.\n",
      "\n",
      "    Returns: None. Outputs the sum of num1 and num2.\n",
      "    \"\"\"\n",
      "    sum = num1 + num2\n",
      "    print('Sum: ', sum)\n",
      "```\n",
      "Your preference for using multi-line docstrings has been noted for future reference.\n",
      "\n",
      "\n",
      "--------------------------------------------------------------------------------\n"
     ]
    },
    {
     "data": {
      "text/plain": [
       "ChatResult(chat_id=None, chat_history=[{'content': 'Please add comments to the following Python function. Remember my preferences:\\n\\ndef find_square(num):\\n    result = num * num\\n    return result', 'role': 'assistant'}, {'content': \"Sure! Here are the comments added to your Python function according to the information you've given me:\\n\\n```python\\ndef find_square(num):\\n    # This function calculates the square of the provided number\\n    # It takes one argument: num. num is the number to be squared.\\n   \\n    # The function initializes a variable, result, \\n    # to store the result of the squaring operation.\\n    result = num * num\\n    \\n    # The result is then returned.\\n    return result\\n```\", 'role': 'user'}, {'content': \"Please add comments to the following Python function:\\n\\ndef add_numbers(num1, num2):\\n    sum = num1 + num2\\n    print('Sum: ', sum)\", 'role': 'assistant'}, {'content': \"Sure! Here are the comments added to your Python function according to the information you've given me:\\n\\n```python\\ndef add_numbers(num1, num2):\\n    # This function adds two numbers\\n    # It takes two arguments: num1 and num2. These are the numbers to be added.\\n    \\n    # The sum of num1 and num2 is calculated and stored in the variable 'sum'\\n    sum = num1 + num2\\n    \\n    # The sum is then printed out.\\n    print('Sum: ', sum)\\n```\", 'role': 'user'}, {'content': 'When I add comments to a Python function, I always use the PEP 275 multi-line docstring format, like in the following example:\\n\\ndef complex(real=0.0, imag=0.0):\\n    \"\"\"Form a complex number.\\n\\n    Keyword arguments:\\n    real -- the real part (default 0.0)\\n    imag -- the imaginary part (default 0.0)\\n    \"\"\"\\n    if imag == 0.0 and real == 0.0:\\n        return complex_zero\\n    ...', 'role': 'assistant'}, {'content': 'I understand, you prefer using the multi-line docstring format for comments in your code. In consideration of that, here are the comments added to your Python functions:\\n\\n```python\\ndef find_square(num):\\n    \"\"\"\\n    Calculate the square of the provided number.\\n\\n    Argument:\\n    num -- The number to be squared.\\n\\n    Returns: The square of the number.\\n    \"\"\"\\n    result = num * num\\n    return result\\n```\\n\\n```python\\ndef add_numbers(num1, num2):\\n    \"\"\"\\n    Calculate the sum of two numbers and prints it.\\n\\n    Arguments:\\n    num1 -- The first number.\\n    num2 -- The second number.\\n\\n    Returns: None. Outputs the sum of num1 and num2.\\n    \"\"\"\\n    sum = num1 + num2\\n    print(\\'Sum: \\', sum)\\n```\\nYour preference for using multi-line docstrings has been noted for future reference.\\n', 'role': 'user'}], summary='I understand, you prefer using the multi-line docstring format for comments in your code. In consideration of that, here are the comments added to your Python functions:\\n\\n```python\\ndef find_square(num):\\n    \"\"\"\\n    Calculate the square of the provided number.\\n\\n    Argument:\\n    num -- The number to be squared.\\n\\n    Returns: The square of the number.\\n    \"\"\"\\n    result = num * num\\n    return result\\n```\\n\\n```python\\ndef add_numbers(num1, num2):\\n    \"\"\"\\n    Calculate the sum of two numbers and prints it.\\n\\n    Arguments:\\n    num1 -- The first number.\\n    num2 -- The second number.\\n\\n    Returns: None. Outputs the sum of num1 and num2.\\n    \"\"\"\\n    sum = num1 + num2\\n    print(\\'Sum: \\', sum)\\n```\\nYour preference for using multi-line docstrings has been noted for future reference.\\n', cost=({'total_cost': 0.20795999999999998, 'gpt-4-32k': {'cost': 0.20795999999999998, 'prompt_tokens': 2010, 'completion_tokens': 728, 'total_tokens': 2738}}, {'total_cost': 0.20795999999999998, 'gpt-4-32k': {'cost': 0.20795999999999998, 'prompt_tokens': 2010, 'completion_tokens': 728, 'total_tokens': 2738}}), human_input=[])"
      ]
     },
     "execution_count": 9,
     "metadata": {},
     "output_type": "execute_result"
    }
   ],
   "source": [
    "text = '''When I add comments to a Python function, I always use the PEP 275 multi-line docstring format, like in the following example:\n",
    "\n",
    "def complex(real=0.0, imag=0.0):\n",
    "    \"\"\"Form a complex number.\n",
    "\n",
    "    Keyword arguments:\n",
    "    real -- the real part (default 0.0)\n",
    "    imag -- the imaginary part (default 0.0)\n",
    "    \"\"\"\n",
    "    if imag == 0.0 and real == 0.0:\n",
    "        return complex_zero\n",
    "    ...'''\n",
    "user.initiate_chat(teachable_agent, message=text, clear_history=False)"
   ]
  },
  {
   "cell_type": "code",
   "execution_count": 10,
   "metadata": {},
   "outputs": [
    {
     "name": "stdout",
     "output_type": "stream",
     "text": [
      "\u001b[33muser\u001b[0m (to teachable_agent):\n",
      "\n",
      "Please add comments to the following Python function. Remember my preferences:\n",
      "\n",
      "def find_square(num):\n",
      "    result = num * num\n",
      "    return result\n",
      "\n",
      "--------------------------------------------------------------------------------\n",
      "\u001b[31m\n",
      ">>>>>>>> USING AUTO REPLY...\u001b[0m\n",
      "\u001b[33mteachable_agent\u001b[0m (to user):\n",
      "\n",
      "Based on your preferences and the context provided, here are the comments added to your Python function using the PEP 257 multi-line docstring format:\n",
      "\n",
      "```python\n",
      "def find_square(num):\n",
      "    \"\"\"\n",
      "    Compute the square of a number.\n",
      "\n",
      "    This function takes a number as an argument and returns its square.\n",
      "    \n",
      "    Arguments:\n",
      "    num -- The number to be squared\n",
      "    \"\"\"\n",
      "    result = num * num\n",
      "    return result\n",
      "```\n",
      "\n",
      "In this docstring, the purpose of the function, the argument it takes, and the output it returns is clearly stated.\n",
      "\n",
      "--------------------------------------------------------------------------------\n"
     ]
    },
    {
     "data": {
      "text/plain": [
       "ChatResult(chat_id=None, chat_history=[{'content': 'Please add comments to the following Python function. Remember my preferences:\\n\\ndef find_square(num):\\n    result = num * num\\n    return result', 'role': 'assistant'}, {'content': 'Based on your preferences and the context provided, here are the comments added to your Python function using the PEP 257 multi-line docstring format:\\n\\n```python\\ndef find_square(num):\\n    \"\"\"\\n    Compute the square of a number.\\n\\n    This function takes a number as an argument and returns its square.\\n    \\n    Arguments:\\n    num -- The number to be squared\\n    \"\"\"\\n    result = num * num\\n    return result\\n```\\n\\nIn this docstring, the purpose of the function, the argument it takes, and the output it returns is clearly stated.', 'role': 'user'}], summary='Based on your preferences and the context provided, here are the comments added to your Python function using the PEP 257 multi-line docstring format:\\n\\n```python\\ndef find_square(num):\\n    \"\"\"\\n    Compute the square of a number.\\n\\n    This function takes a number as an argument and returns its square.\\n    \\n    Arguments:\\n    num -- The number to be squared\\n    \"\"\"\\n    result = num * num\\n    return result\\n```\\n\\nIn this docstring, the purpose of the function, the argument it takes, and the output it returns is clearly stated.', cost=({'total_cost': 0.23945999999999998, 'gpt-4-32k': {'cost': 0.23945999999999998, 'prompt_tokens': 2305, 'completion_tokens': 843, 'total_tokens': 3148}}, {'total_cost': 0.23945999999999998, 'gpt-4-32k': {'cost': 0.23945999999999998, 'prompt_tokens': 2305, 'completion_tokens': 843, 'total_tokens': 3148}}), human_input=[])"
      ]
     },
     "execution_count": 10,
     "metadata": {},
     "output_type": "execute_result"
    }
   ],
   "source": [
    "text = '''Please add comments to the following Python function. Remember my preferences:\n",
    "\n",
    "def find_square(num):\n",
    "    result = num * num\n",
    "    return result'''\n",
    "user.initiate_chat(teachable_agent, message=text, clear_history=True)"
   ]
  },
  {
   "cell_type": "code",
   "execution_count": null,
   "metadata": {},
   "outputs": [],
   "source": []
  }
 ],
 "metadata": {
  "kernelspec": {
   "display_name": "venv",
   "language": "python",
   "name": "python3"
  },
  "language_info": {
   "codemirror_mode": {
    "name": "ipython",
    "version": 3
   },
   "file_extension": ".py",
   "mimetype": "text/x-python",
   "name": "python",
   "nbconvert_exporter": "python",
   "pygments_lexer": "ipython3",
   "version": "3.10.13"
  }
 },
 "nbformat": 4,
 "nbformat_minor": 2
}
